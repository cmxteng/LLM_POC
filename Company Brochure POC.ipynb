{
 "cells": [
  {
   "cell_type": "markdown",
   "id": "a98030af-fcd1-4d63-a36e-38ba053498fa",
   "metadata": {},
   "source": [
    "### BUSINESS CHALLENGE:\n",
    "\n",
    "Create a product that builds a Brochure for a company to be used for prospective clients, investors and potential recruits.\n",
    "\n",
    "By providing a company name and their primary website."
   ]
  },
  {
   "cell_type": "code",
   "execution_count": 1,
   "id": "d5b08506-dc8b-4443-9201-5f1848161363",
   "metadata": {},
   "outputs": [],
   "source": [
    "# imports\n",
    "# If these fail, please check you're running from an 'activated' environment with (llms) in the command prompt\n",
    "\n",
    "import os\n",
    "import requests\n",
    "import json\n",
    "from typing import List\n",
    "from dotenv import load_dotenv\n",
    "from bs4 import BeautifulSoup\n",
    "from IPython.display import Markdown, display, update_display\n",
    "from openai import OpenAI\n",
    "import ollama"
   ]
  },
  {
   "cell_type": "code",
   "execution_count": 17,
   "id": "fc5d8880-f2ee-4c06-af16-ecbc0262af61",
   "metadata": {},
   "outputs": [
    {
     "name": "stdout",
     "output_type": "stream",
     "text": [
      "API key looks good so far\n"
     ]
    }
   ],
   "source": [
    "# Initialize and constants\n",
    "\n",
    "load_dotenv(override=True)\n",
    "api_key = os.getenv('OPENAI_API_KEY')\n",
    "\n",
    "if api_key and api_key.startswith('sk-proj-') and len(api_key)>10:\n",
    "    print(\"API key looks good so far\")\n",
    "else:\n",
    "    print(\"There might be a problem with your API key? Please visit the troubleshooting notebook!\")\n",
    "    \n",
    "MODEL = 'gpt-4o-mini'\n",
    "openai = OpenAI()"
   ]
  },
  {
   "cell_type": "code",
   "execution_count": 3,
   "id": "106dd65e-90af-4ca8-86b6-23a41840645b",
   "metadata": {},
   "outputs": [],
   "source": [
    "# A class to represent a Webpage\n",
    "\n",
    "# Some websites need you to use proper headers when fetching them:\n",
    "headers = {\n",
    " \"User-Agent\": \"Mozilla/5.0 (Windows NT 10.0; Win64; x64) AppleWebKit/537.36 (KHTML, like Gecko) Chrome/117.0.0.0 Safari/537.36\"\n",
    "}\n",
    "\n",
    "class Website:\n",
    "    \"\"\"\n",
    "    A utility class to represent a Website that we have scraped, now with links\n",
    "    \"\"\"\n",
    "\n",
    "    def __init__(self, url):\n",
    "        self.url = url\n",
    "        response = requests.get(url, headers=headers)\n",
    "        self.body = response.content\n",
    "        soup = BeautifulSoup(self.body, 'html.parser')\n",
    "        self.title = soup.title.string if soup.title else \"No title found\"\n",
    "        if soup.body:\n",
    "            for irrelevant in soup.body([\"script\", \"style\", \"img\", \"input\"]):\n",
    "                irrelevant.decompose()\n",
    "            self.text = soup.body.get_text(separator=\"\\n\", strip=True)\n",
    "        else:\n",
    "            self.text = \"\"\n",
    "        links = [link.get('href') for link in soup.find_all('a')]\n",
    "        self.links = [link for link in links if link]\n",
    "\n",
    "    def get_contents(self):\n",
    "        return f\"Webpage Title:\\n{self.title}\\nWebpage Contents:\\n{self.text}\\n\\n\""
   ]
  },
  {
   "cell_type": "code",
   "execution_count": 42,
   "id": "e30d8128-933b-44cc-81c8-ab4c9d86589a",
   "metadata": {
    "scrolled": true
   },
   "outputs": [],
   "source": [
    "# cimb = Website(\"https://www.cimb.com.my\")\n",
    "# cimb.links"
   ]
  },
  {
   "cell_type": "markdown",
   "id": "1771af9c-717a-4fca-bbbe-8a95893312c3",
   "metadata": {},
   "source": [
    "## First step: Have GPT-4o-mini figure out which links are relevant\n",
    "\n",
    "### Use a call to gpt-4o-mini to read the links on a webpage, and respond in structured JSON.  \n",
    "It should decide which links are relevant, and replace relative links such as \"/about\" with \"https://company.com/about\".  \n",
    "Use \"one shot prompting\" \n",
    "\n",
    "This is an excellent use case for an LLM, because it requires nuanced understanding. \n",
    "Imagine trying to code this without LLMs by parsing and analyzing the webpage - it would be very hard!\n"
   ]
  },
  {
   "cell_type": "code",
   "execution_count": 5,
   "id": "6957b079-0d96-45f7-a26a-3487510e9b35",
   "metadata": {},
   "outputs": [],
   "source": [
    "link_system_prompt = \"You are provided with a list of links found on a webpage. \\\n",
    "You are able to decide which of the links would be most relevant to include in a brochure about the company, \\\n",
    "such as links to an About page, or a Company page, or Careers/Jobs pages.\\n\"\n",
    "link_system_prompt += \"You should respond in JSON as in this example:\"\n",
    "link_system_prompt += \"\"\"\n",
    "{\n",
    "    \"links\": [\n",
    "        {\"type\": \"about page\", \"url\": \"https://full.url/goes/here/about\"},\n",
    "        {\"type\": \"careers page\": \"url\": \"https://another.full.url/careers\"}\n",
    "    ]\n",
    "}\n",
    "\"\"\""
   ]
  },
  {
   "cell_type": "code",
   "execution_count": 6,
   "id": "b97e4068-97ed-4120-beae-c42105e4d59a",
   "metadata": {},
   "outputs": [
    {
     "name": "stdout",
     "output_type": "stream",
     "text": [
      "You are provided with a list of links found on a webpage. You are able to decide which of the links would be most relevant to include in a brochure about the company, such as links to an About page, or a Company page, or Careers/Jobs pages.\n",
      "You should respond in JSON as in this example:\n",
      "{\n",
      "    \"links\": [\n",
      "        {\"type\": \"about page\", \"url\": \"https://full.url/goes/here/about\"},\n",
      "        {\"type\": \"careers page\": \"url\": \"https://another.full.url/careers\"}\n",
      "    ]\n",
      "}\n",
      "\n"
     ]
    }
   ],
   "source": [
    "print(link_system_prompt)"
   ]
  },
  {
   "cell_type": "code",
   "execution_count": 30,
   "id": "8e1f601b-2eaf-499d-b6b8-c99050c9d6b3",
   "metadata": {},
   "outputs": [],
   "source": [
    "def get_links_user_prompt(website):\n",
    "    user_prompt = f\"Here is the list of links on the website of {website.url} - \"\n",
    "    user_prompt += \"please decide which of these are relevant web links for a brochure about the company, respond with the full https URL in JSON format. \\\n",
    "Do not include Terms of Service, Privacy, email links and broken links.\\n\"\n",
    "    user_prompt += \"Links (some might be relative links):\\n\"\n",
    "    user_prompt += \"\\n\".join(website.links)\n",
    "    return user_prompt"
   ]
  },
  {
   "cell_type": "code",
   "execution_count": 43,
   "id": "6bcbfa78-6395-4685-b92c-22d592050fd7",
   "metadata": {
    "scrolled": true
   },
   "outputs": [],
   "source": [
    "# print(get_links_user_prompt(ed))"
   ]
  },
  {
   "cell_type": "code",
   "execution_count": 32,
   "id": "a29aca19-ca13-471c-a4b4-5abbfa813f69",
   "metadata": {},
   "outputs": [],
   "source": [
    "def get_links(url):\n",
    "    website = Website(url)\n",
    "    response = openai.chat.completions.create(\n",
    "        model=MODEL,\n",
    "        messages=[\n",
    "            {\"role\": \"system\", \"content\": link_system_prompt},\n",
    "            {\"role\": \"user\", \"content\": get_links_user_prompt(website)}\n",
    "      ],\n",
    "        response_format={\"type\": \"json_object\"}\n",
    "    )\n",
    "    result = response.choices[0].message.content\n",
    "    return json.loads(result)"
   ]
  },
  {
   "cell_type": "code",
   "execution_count": 10,
   "id": "05978248-9cea-4120-88e6-9b417f4aab84",
   "metadata": {},
   "outputs": [],
   "source": [
    "## Ollama version - Unable to provide info\n",
    "# OLLAMA_API = \"http://localhost:11434/api/chat\"\n",
    "# HEADERS = {\"Content-Type\": \"application/json\"}\n",
    "# MODEL_llama = \"llama3.2\"\n",
    "\n",
    "# ollama_via_openai = OpenAI(base_url='http://localhost:11434/v1', api_key='ollama')\n",
    "\n",
    "# def get_links(url):\n",
    "#     website = Website(url)\n",
    "#     response = ollama_via_openai.chat.completions.create(\n",
    "#         model=MODEL_llama,\n",
    "#         messages=[\n",
    "#             {\"role\": \"system\", \"content\": link_system_prompt},\n",
    "#             {\"role\": \"user\", \"content\": get_links_user_prompt(website)}\n",
    "#       ],\n",
    "#         response_format={\"type\": \"json_object\"}\n",
    "#     )\n",
    "#     result = response.choices[0].message.content\n",
    "#     return json.loads(result)"
   ]
  },
  {
   "cell_type": "code",
   "execution_count": 44,
   "id": "74a827a0-2782-4ae5-b210-4a242a8b4cc2",
   "metadata": {
    "scrolled": true
   },
   "outputs": [],
   "source": [
    "# cimb = Website(\"https://www.cimb.com.my\")\n",
    "# cimb.links"
   ]
  },
  {
   "cell_type": "code",
   "execution_count": 34,
   "id": "d3d583e2-dcc4-40cc-9b28-1e8dbf402924",
   "metadata": {},
   "outputs": [
    {
     "data": {
      "text/plain": [
       "{'links': [{'type': 'about page', 'url': 'https://www.cimb.com/en/home.html'},\n",
       "  {'type': 'about page',\n",
       "   'url': 'https://www.cimb.com/en/sustainability/our-journey.html'},\n",
       "  {'type': 'careers page',\n",
       "   'url': 'https://www.cimb.com/en/business/home.html'},\n",
       "  {'type': 'careers page', 'url': 'https://apply.cimb.com/my/careers'}]}"
      ]
     },
     "execution_count": 34,
     "metadata": {},
     "output_type": "execute_result"
    }
   ],
   "source": [
    "get_links(\"https://www.cimb.com.my\")"
   ]
  },
  {
   "cell_type": "markdown",
   "id": "0d74128e-dfb6-47ec-9549-288b621c838c",
   "metadata": {},
   "source": [
    "## Second step: make the brochure!\n",
    "\n",
    "Assemble all the details into another prompt to GPT4-o"
   ]
  },
  {
   "cell_type": "code",
   "execution_count": 35,
   "id": "85a5b6e2-e7ef-44a9-bc7f-59ede71037b5",
   "metadata": {},
   "outputs": [],
   "source": [
    "def get_all_details(url):\n",
    "    result = \"Landing page:\\n\"\n",
    "    result += Website(url).get_contents()\n",
    "    links = get_links(url)\n",
    "    print(\"Found links:\", links)\n",
    "    for link in links[\"links\"]:\n",
    "        result += f\"\\n\\n{link['type']}\\n\"\n",
    "        result += Website(link[\"url\"]).get_contents()\n",
    "    return result"
   ]
  },
  {
   "cell_type": "code",
   "execution_count": 45,
   "id": "5099bd14-076d-4745-baf3-dac08d8e5ab2",
   "metadata": {
    "scrolled": true
   },
   "outputs": [],
   "source": [
    "# print(get_all_details(\"https://www.cimb.com.my\"))"
   ]
  },
  {
   "cell_type": "code",
   "execution_count": 37,
   "id": "9b863a55-f86c-4e3f-8a79-94e24c1a8cf2",
   "metadata": {},
   "outputs": [],
   "source": [
    "system_prompt = \"You are an assistant that analyzes the contents of several relevant pages from a company website \\\n",
    "and creates a short brochure about the company for prospective customers, investors and recruits. Respond in markdown.\\\n",
    "Include details of company culture, customers and careers/jobs if you have the information.\""
   ]
  },
  {
   "cell_type": "code",
   "execution_count": 38,
   "id": "6ab83d92-d36b-4ce0-8bcc-5bb4c2f8ff23",
   "metadata": {},
   "outputs": [],
   "source": [
    "def get_brochure_user_prompt(company_name, url):\n",
    "    user_prompt = f\"You are looking at a company called: {company_name}\\n\"\n",
    "    user_prompt += f\"Here are the contents of its landing page and other relevant pages; use this information to build a short brochure of the company in markdown.\\n\"\n",
    "    user_prompt += get_all_details(url)\n",
    "    user_prompt = user_prompt[:5_000] # Truncate if more than 5,000 characters\n",
    "    return user_prompt"
   ]
  },
  {
   "cell_type": "code",
   "execution_count": 46,
   "id": "cd909e0b-1312-4ce2-a553-821e795d7572",
   "metadata": {
    "scrolled": true
   },
   "outputs": [],
   "source": [
    "# get_brochure_user_prompt(\"CIMB\", \"https://www.cimb.com.my\")"
   ]
  },
  {
   "cell_type": "code",
   "execution_count": 40,
   "id": "e44de579-4a1a-4e6a-a510-20ea3e4b8d46",
   "metadata": {},
   "outputs": [],
   "source": [
    "def create_brochure(company_name, url):\n",
    "    response = openai.chat.completions.create(\n",
    "        model=MODEL,\n",
    "        messages=[\n",
    "            {\"role\": \"system\", \"content\": system_prompt},\n",
    "            {\"role\": \"user\", \"content\": get_brochure_user_prompt(company_name, url)}\n",
    "          ],\n",
    "    )\n",
    "    result = response.choices[0].message.content\n",
    "    display(Markdown(result))"
   ]
  },
  {
   "cell_type": "code",
   "execution_count": 41,
   "id": "e093444a-9407-42ae-924a-145730591a39",
   "metadata": {},
   "outputs": [
    {
     "name": "stdout",
     "output_type": "stream",
     "text": [
      "Found links: {'links': [{'type': 'about page', 'url': 'https://www.cimb.com/en/home.html'}, {'type': 'wholesale banking page', 'url': 'https://www.cimb.com/en/wholesalebanking/home.html'}, {'type': 'preferred banking page', 'url': 'https://www.cimbpreferred.com.my/en/home.html'}, {'type': 'private banking page', 'url': 'https://www.cimbprivatebanking.com/en/home.html'}, {'type': 'Islamic banking page', 'url': 'https://www.cimbislamic.com/en/home.html'}, {'type': 'sustainability page', 'url': 'https://www.cimb.com/en/sustainability/our-journey.html'}, {'type': 'careers page', 'url': 'https://www.cimb.com.my/en/personal/help-support/contact-us.html'}, {'type': 'jobs page', 'url': 'https://www.cimb.com.my/en/personal/help-support/contact-us.html'}]}\n"
     ]
    },
    {
     "data": {
      "text/markdown": [
       "# CIMB Company Brochure\n",
       "\n",
       "![CIMB Logo](insert_logo_url_here) \n",
       "\n",
       "## About CIMB\n",
       "\n",
       "CIMB is one of the leading financial services providers in Southeast Asia, dedicated to delivering exceptional banking solutions across multiple markets including Malaysia, Indonesia, Singapore, Thailand, Cambodia, Vietnam, and the Philippines. We pride ourselves on our comprehensive range of products tailored to meet the diverse needs of our customers, from personal banking and credit cards to financing and wealth management services.\n",
       "\n",
       "---\n",
       "\n",
       "## Our Services\n",
       "\n",
       "- **Personal Banking:** Offering a variety of accounts, credit cards, personal and property financing to suit individual needs.\n",
       "- **Islamic Banking:** Adhering to Shariah principles, we provide a robust suite of Islamic banking and wealth management services.\n",
       "- **Business & Corporate Solutions:** Comprehensive banking services for businesses, including financing and cash management solutions.\n",
       "- **Digital Services:** Our innovative digital platforms such as CIMB Clicks and CIMB OCTO App make banking accessible and convenient.\n",
       "\n",
       "---\n",
       "\n",
       "## Customer-Centric Approach\n",
       "\n",
       "At CIMB, we believe in putting our customers first. Our initiatives include:\n",
       "- **Promotions and Rewards:** Engage with exciting campaigns that offer customers opportunities to win prizes and bonuses.\n",
       "- **Personalized Solutions:** We tailor our financial products to meet the unique needs of our diverse clientele.\n",
       "\n",
       "### Current Promotions:\n",
       "- **Riuh Durian Runtuh Campaign:** Open a DURIAN-i Account and stand to win prizes and bonuses.\n",
       "- **Cash Plus Personal Loan:** Instant approvals with no collateral required for loans up to RM100,000.\n",
       "\n",
       "---\n",
       "\n",
       "## Our Commitment to Sustainability\n",
       "\n",
       "CIMB is committed to sustainable banking. Our initiatives aim to balance economic growth with environmental and social awareness, ensuring a positive impact on our communities and the planet.\n",
       "\n",
       "---\n",
       "\n",
       "## Company Culture\n",
       "\n",
       "CIMB fosters a dynamic work environment that promotes inclusivity, innovation, and continuous learning. Our culture emphasizes:\n",
       "- **Collaboration:** Encouraging teamwork across departments to achieve shared goals.\n",
       "- **Innovation:** Embracing technology and new ideas to enhance customer experiences.\n",
       "- **Diversity & Inclusion:** Valuing diverse perspectives and backgrounds, creating an enriching workplace for all.\n",
       "\n",
       "---\n",
       "\n",
       "## Careers at CIMB\n",
       "\n",
       "We are always on the lookout for talented individuals to join our team. Opportunities abound in various sectors, including banking, technology, finance, and customer service. At CIMB, you can expect:\n",
       "- **Professional Development:** Access to training and career advancement opportunities.\n",
       "- **Supportive Environment:** A culture that supports your personal and professional growth.\n",
       "\n",
       "### Join Us!\n",
       "Explore career opportunities at [CIMB Careers](insert_careers_page_url_here).\n",
       "\n",
       "---\n",
       "\n",
       "## Connect with Us\n",
       "\n",
       "For more information, visit our website at [CIMB Malaysia](insert_website_url_here) or follow us on our official social media channels.\n",
       "\n",
       "---\n",
       "\n",
       "Thank you for considering CIMB as your banking partner, employer, and investor! Together, we can achieve great things."
      ],
      "text/plain": [
       "<IPython.core.display.Markdown object>"
      ]
     },
     "metadata": {},
     "output_type": "display_data"
    }
   ],
   "source": [
    "create_brochure(\"CIMB\", \"https://www.cimb.com.my\")"
   ]
  },
  {
   "cell_type": "markdown",
   "id": "61eaaab7-0b47-4b29-82d4-75d474ad8d18",
   "metadata": {},
   "source": [
    "## Finally - a minor improvement\n",
    "\n",
    "With a small adjustment, we can change this so that the results stream back from OpenAI,\n",
    "with the familiar typewriter animation"
   ]
  },
  {
   "cell_type": "code",
   "execution_count": null,
   "id": "51db0e49-f261-4137-aabe-92dd601f7725",
   "metadata": {},
   "outputs": [],
   "source": [
    "def stream_brochure(company_name, url):\n",
    "    stream = openai.chat.completions.create(\n",
    "        model=MODEL,\n",
    "        messages=[\n",
    "            {\"role\": \"system\", \"content\": system_prompt},\n",
    "            {\"role\": \"user\", \"content\": get_brochure_user_prompt(company_name, url)}\n",
    "          ],\n",
    "        stream=True\n",
    "    )\n",
    "    \n",
    "    response = \"\"\n",
    "    display_handle = display(Markdown(\"\"), display_id=True)\n",
    "    for chunk in stream:\n",
    "        response += chunk.choices[0].delta.content or ''\n",
    "        response = response.replace(\"```\",\"\").replace(\"markdown\", \"\")\n",
    "        update_display(Markdown(response), display_id=display_handle.display_id)"
   ]
  },
  {
   "cell_type": "code",
   "execution_count": null,
   "id": "56bf0ae3-ee9d-4a72-9cd6-edcac67ceb6d",
   "metadata": {},
   "outputs": [],
   "source": [
    "stream_brochure(\"CIMB\", \"https://www.cimb.com.my\")"
   ]
  }
 ],
 "metadata": {
  "kernelspec": {
   "display_name": "Python 3 (ipykernel)",
   "language": "python",
   "name": "python3"
  },
  "language_info": {
   "codemirror_mode": {
    "name": "ipython",
    "version": 3
   },
   "file_extension": ".py",
   "mimetype": "text/x-python",
   "name": "python",
   "nbconvert_exporter": "python",
   "pygments_lexer": "ipython3",
   "version": "3.11.11"
  }
 },
 "nbformat": 4,
 "nbformat_minor": 5
}
