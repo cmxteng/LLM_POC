{
 "cells": [
  {
   "cell_type": "markdown",
   "id": "d032fee4-7e37-43d5-974e-b6d29f0813e9",
   "metadata": {},
   "source": [
    "# Langchain + FAISS + Ollama\n",
    "This workbook demonstrate RAG with FAISS & ollama (offline)\n",
    "\n",
    "**Notes:**\n",
    "1. Install ollama: https://ollama.com/download\n",
    "2. Download ollama embed: `ollama pull nomic-embed-text`\n",
    "3. Download the model (eg. `ollama pull mistral-openorca`)\n",
    "4. `ollama serve`"
   ]
  },
  {
   "cell_type": "code",
   "execution_count": 1,
   "id": "63c10e01-860b-43ce-b6aa-d8cbfa91f630",
   "metadata": {},
   "outputs": [],
   "source": [
    "import os\n",
    "import glob\n",
    "\n",
    "import gradio as gr"
   ]
  },
  {
   "cell_type": "code",
   "execution_count": 2,
   "id": "afeec974-6332-46b3-adf9-a19110b92a50",
   "metadata": {},
   "outputs": [],
   "source": [
    "# imports for langchain\n",
    "\n",
    "from langchain.document_loaders import DirectoryLoader, TextLoader\n",
    "from langchain.text_splitter import CharacterTextSplitter\n",
    "from langchain.schema import Document\n",
    "\n",
    "from langchain.vectorstores import FAISS\n",
    "\n",
    "from langchain.memory import ConversationBufferMemory\n",
    "from langchain.chains import ConversationalRetrievalChain"
   ]
  },
  {
   "cell_type": "markdown",
   "id": "05d1dec0-2695-4057-817f-d3403ab88669",
   "metadata": {},
   "source": [
    "## Directory setup"
   ]
  },
  {
   "cell_type": "code",
   "execution_count": 3,
   "id": "5a759958-8a8d-48f0-b34c-a435d97faad9",
   "metadata": {},
   "outputs": [],
   "source": [
    "folders = glob.glob(\"knowledge-base/*\")\n",
    "\n",
    "text_loader_kwargs = {'encoding': 'utf-8'}\n",
    "\n",
    "documents = []\n",
    "for folder in folders:\n",
    "    doc_type = os.path.basename(folder)\n",
    "    loader = DirectoryLoader(folder, glob=\"**/*.md\", loader_cls=TextLoader, loader_kwargs=text_loader_kwargs)\n",
    "    folder_docs = loader.load()\n",
    "    for doc in folder_docs:\n",
    "        doc.metadata[\"doc_type\"] = doc_type\n",
    "        documents.append(doc)"
   ]
  },
  {
   "cell_type": "code",
   "execution_count": 4,
   "id": "cc7ec6de-22bc-4f07-b41e-cce55bfceb29",
   "metadata": {},
   "outputs": [
    {
     "data": {
      "text/plain": [
       "31"
      ]
     },
     "execution_count": 4,
     "metadata": {},
     "output_type": "execute_result"
    }
   ],
   "source": [
    "len(documents)"
   ]
  },
  {
   "cell_type": "code",
   "execution_count": 5,
   "id": "afe5b057-a99e-4566-8984-bb5ae5831de5",
   "metadata": {},
   "outputs": [],
   "source": [
    "text_splitter = CharacterTextSplitter(chunk_size=1300, chunk_overlap=200)\n",
    "chunks = text_splitter.split_documents(documents)"
   ]
  },
  {
   "cell_type": "code",
   "execution_count": 6,
   "id": "e14c7c99-628b-4a3a-ad0b-f2df20762db8",
   "metadata": {},
   "outputs": [
    {
     "data": {
      "text/plain": [
       "91"
      ]
     },
     "execution_count": 6,
     "metadata": {},
     "output_type": "execute_result"
    }
   ],
   "source": [
    "len(chunks)"
   ]
  },
  {
   "cell_type": "code",
   "execution_count": 7,
   "id": "ddd22f41-6f0e-49ea-b5a5-5f8cde314aa9",
   "metadata": {},
   "outputs": [
    {
     "name": "stdout",
     "output_type": "stream",
     "text": [
      "Document types found: contracts, company, products, employees\n"
     ]
    }
   ],
   "source": [
    "doc_types = set(chunk.metadata['doc_type'] for chunk in chunks)\n",
    "print(f\"Document types found: {', '.join(doc_types)}\")"
   ]
  },
  {
   "cell_type": "markdown",
   "id": "33f02751-9d75-459a-8039-d7e5bb962d9b",
   "metadata": {},
   "source": [
    "## Convert to vector database\n",
    "use `nomic-embed-text' from ollama library: https://ollama.com/library/nomic-embed-text."
   ]
  },
  {
   "cell_type": "code",
   "execution_count": 8,
   "id": "1e2b354d-ff60-4de3-8ace-192da1501563",
   "metadata": {},
   "outputs": [],
   "source": [
    "from langchain_ollama import OllamaEmbeddings, ChatOllama\n",
    "\n",
    "db_name = \"knowledge_base_1\"\n",
    "embeddings = OllamaEmbeddings(model=\"nomic-embed-text\")"
   ]
  },
  {
   "cell_type": "code",
   "execution_count": 9,
   "id": "845e9f81-6a50-4088-a921-b68faff18976",
   "metadata": {},
   "outputs": [
    {
     "name": "stdout",
     "output_type": "stream",
     "text": [
      "There are 91 vectors with 768 dimensions in the vector store\n"
     ]
    }
   ],
   "source": [
    "# Create our FAISS vectorstore!\n",
    "\n",
    "vectorstore = FAISS.from_documents(chunks, embedding=embeddings)\n",
    "\n",
    "total_vectors = vectorstore.index.ntotal\n",
    "dimensions = vectorstore.index.d\n",
    "\n",
    "print(f\"There are {total_vectors} vectors with {dimensions:,} dimensions in the vector store\")"
   ]
  },
  {
   "cell_type": "markdown",
   "id": "50b5ae64-ca8c-470c-b546-591feebb0217",
   "metadata": {},
   "source": [
    "## Chat setup\n"
   ]
  },
  {
   "cell_type": "code",
   "execution_count": 21,
   "id": "e8cfeedd-496f-4e66-8682-aff4bf8d360e",
   "metadata": {},
   "outputs": [],
   "source": [
    "# create a new Chat with Ollama\n",
    "from langchain_core.callbacks import StdOutCallbackHandler\n",
    "\n",
    "MODEL = \"mistral-openorca\"\n",
    "# MODEL = \"llama3.2\" # fail to answer\n",
    "\n",
    "llm = ChatOllama(temperature=0.7, model=MODEL)\n",
    "\n",
    "# set up the conversation memory for the chat\n",
    "memory = ConversationBufferMemory(memory_key='chat_history', return_messages=True)\n",
    "\n",
    "# the retriever is an abstraction over the VectorStore that will be used during RAG\n",
    "retriever = vectorstore.as_retriever(search_kwargs={\"k\": 13})\n",
    "\n",
    "# putting it together: set up the conversation chain with the GPT 4o-mini LLM, the vector store and memory\n",
    "conversation_chain = ConversationalRetrievalChain.from_llm(llm=llm, \n",
    "                                                           retriever=retriever, \n",
    "                                                           memory=memory, \n",
    "                                                           callbacks=[StdOutCallbackHandler()])"
   ]
  },
  {
   "cell_type": "code",
   "execution_count": 22,
   "id": "4dc8f215-e076-4ae2-a7b7-6d663a358ae3",
   "metadata": {},
   "outputs": [
    {
     "data": {
      "text/plain": [
       "4"
      ]
     },
     "execution_count": 22,
     "metadata": {},
     "output_type": "execute_result"
    }
   ],
   "source": [
    "# run a quick test - should return a list of documents = 4\n",
    "question = \"Insurellm\"\n",
    "docs = vectorstore.similarity_search(question)\n",
    "len(docs)"
   ]
  },
  {
   "cell_type": "code",
   "execution_count": 23,
   "id": "6328550f-5422-4e4f-a9d5-b9c4bca229d5",
   "metadata": {},
   "outputs": [
    {
     "data": {
      "text/plain": [
       "Document(id='35e35da8-0bf9-4d18-9880-c5f4d5c77e7a', metadata={'source': 'knowledge-base\\\\company\\\\about.md', 'doc_type': 'company'}, page_content=\"# About Insurellm\\n\\nInsurellm was founded by Avery Lancaster in 2015 as an insurance tech startup designed to disrupt an industry in need of innovative products. It's first product was Markellm, the marketplace connecting consumers with insurance providers.\\nIt rapidly expanded, adding new products and clients, reaching 200 emmployees by 2024 with 12 offices across the US.\")"
      ]
     },
     "execution_count": 23,
     "metadata": {},
     "output_type": "execute_result"
    }
   ],
   "source": [
    "docs[0]"
   ]
  },
  {
   "cell_type": "code",
   "execution_count": 24,
   "id": "d7db3fae-6f17-46da-a098-65bb9467918e",
   "metadata": {
    "scrolled": true
   },
   "outputs": [
    {
     "name": "stdout",
     "output_type": "stream",
     "text": [
      "\n",
      "\n",
      "\u001b[1m> Entering new ConversationalRetrievalChain chain...\u001b[0m\n",
      "\n",
      "\n",
      "\u001b[1m> Entering new StuffDocumentsChain chain...\u001b[0m\n",
      "\n",
      "\n",
      "\u001b[1m> Entering new LLMChain chain...\u001b[0m\n",
      "Prompt after formatting:\n",
      "\u001b[32;1m\u001b[1;3mSystem: Use the following pieces of context to answer the user's question. \n",
      "If you don't know the answer, just say that you don't know, don't try to make up an answer.\n",
      "----------------\n",
      "# Overview of Insurellm\n",
      "\n",
      "Insurellm is an innovative insurance tech firm with 200 employees across the US.\n",
      "Insurellm offers 4 insurance software products:\n",
      "- Carllm, a portal for auto insurance companies\n",
      "- Homellm, a portal for home insurance companies\n",
      "- Rellm, an enterprise platform for the reinsurance sector\n",
      "- Marketllm, a marketplace for connecting consumers with insurance providers\n",
      "  \n",
      "Insurellm has more than 300 clients worldwide.\n",
      "\n",
      "# About Insurellm\n",
      "\n",
      "Insurellm was founded by Avery Lancaster in 2015 as an insurance tech startup designed to disrupt an industry in need of innovative products. It's first product was Markellm, the marketplace connecting consumers with insurance providers.\n",
      "It rapidly expanded, adding new products and clients, reaching 200 emmployees by 2024 with 12 offices across the US.\n",
      "\n",
      "# Careers at Insurellm\n",
      "\n",
      "Insurellm is hiring! We are looking for talented software engineers, data scientists and account executives to join our growing team. Come be a part of our movement to disrupt the insurance sector.\n",
      "\n",
      "## Support\n",
      "Insurellm provides Stellar Insurance Co. with the following support services:\n",
      "\n",
      "- **24/7 Technical Support**: Access to dedicated support representatives via phone and online chat.\n",
      "- **Quarterly Account Review**: Meetings to discuss performance metrics and uncover additional needs.\n",
      "- **Training Sessions**: Initial orientation and ongoing training opportunities to maximize the effectiveness of Rellm usage.\n",
      "- **Updates and Upgrades**: Regular software updates and enhancements are included as part of the subscription.\n",
      "\n",
      "Stellar Insurance Co. acknowledges receipt of the Rellm product summary and agrees to the terms set forth above. By signing below, both parties confirm their acceptance of this contract.\n",
      "\n",
      "**For Insurellm**  \n",
      "______________________________  \n",
      "[Signature]  \n",
      "[Name, Title]  \n",
      "[Date]  \n",
      "\n",
      "**For Stellar Insurance Co.**  \n",
      "______________________________  \n",
      "[Signature]  \n",
      "[Name, Title]  \n",
      "[Date]\n",
      "\n",
      "## Pricing\n",
      "\n",
      "Insurellm offers flexible pricing plans for Rellm to cater to various business needs:\n",
      "\n",
      "- **Basic Plan**: $5,000/month\n",
      "  - Includes access to core features and standard integrations.\n",
      "  \n",
      "- **Professional Plan**: $10,000/month\n",
      "  - Includes all features, advanced integrations, and priority customer support.\n",
      "  \n",
      "- **Enterprise Plan**: Custom pricing\n",
      "  - Tailored solutions with personalized features, extensive integrations, and dedicated account management.\n",
      "\n",
      "Join the growing number of organizations leveraging Rellm to enhance their reinsurance processes while driving profitability and compliance. \n",
      "\n",
      "## 2025-2026 Roadmap\n",
      "\n",
      "At Insurellm, we are committed to the continuous improvement of Rellm. Our roadmap for 2025-2026 includes:\n",
      "\n",
      "- **Q3 2025**: \n",
      "  - Launch of the Rellm Mobile App for on-the-go insights and management.\n",
      "  - Introduction of augmented reality (AR) features for interactive risk assessments.\n",
      "\n",
      "- **Q1 2026**: \n",
      "  - Deployment of advanced machine learning models for even more accurate risk predictions.\n",
      "  - Expansion of integration capabilities to support emerging technologies in the insurance sector.\n",
      "\n",
      "## Support\n",
      "1. **Technical Support**: Insurellm shall provide 24/7 technical support via an email and phone assistance for the duration of this Contract.\n",
      "2. **Training**: Insurellm will conduct an onsite training session for Client employees upon implementation, and quarterly training webinars will be made available thereafter.\n",
      "3. **Updates and Maintenance**: Insurellm will provide regular system updates and maintenance, ensuring that the software is operating at peak efficiency.\n",
      "\n",
      "By signing below, both parties agree to the terms set forth in this Contract for the use of the Homellm product.\n",
      "\n",
      "____  \n",
      "**Insurellm Authorized Signature**  \n",
      "Name: Sarah Johnson  \n",
      "Title: VP of Sales  \n",
      "Date: ____________\n",
      "\n",
      "____  \n",
      "**Pinnacle Insurance Co. Authorized Signature**  \n",
      "Name: Tom Anderson  \n",
      "Title: Chief Operating Officer  \n",
      "Date: ____________\n",
      "\n",
      "---\n",
      "\n",
      "## Support\n",
      "\n",
      "Insurellm commits to providing comprehensive support to GreenValley Insurance, which includes:\n",
      "\n",
      "1. **Onboarding:** An extensive training program for the GreenValley staff to ensure effective use of Homellm.\n",
      "   \n",
      "2. **Dedicated Support Team:** A dedicated support team available 24/7 to address any technical issues or inquiries.\n",
      "\n",
      "3. **Regular Updates:** Insurellm will offer ongoing updates and enhancements to the Homellm platform, including new features and security improvements.\n",
      "\n",
      "4. **Feedback Implementation:** Insurellm will actively solicit feedback from GreenValley Insurance to ensure Homellm continues to meet their evolving needs.\n",
      "\n",
      "---\n",
      "\n",
      "**Signatures:**\n",
      "\n",
      "_________________________________  \n",
      "**[Name]**  \n",
      "**Title**: CEO  \n",
      "**Insurellm, Inc.**\n",
      "\n",
      "_________________________________  \n",
      "**[Name]**  \n",
      "**Title**: COO  \n",
      "**GreenValley Insurance, LLC**  \n",
      "\n",
      "---\n",
      "\n",
      "This agreement represents the complete understanding of both parties regarding the use of the Homellm product and supersedes any prior agreements or communications.\n",
      "\n",
      "## Pricing\n",
      "At Insurellm, we believe in providing value without compromising quality. The pricing for Homellm is structured based on the size of the insurance provider and the level of customization required. \n",
      "\n",
      "- **Basic Tier:** Starting at $5,000/month for small insurers with basic integration features.\n",
      "- **Standard Tier:** Starting at $10,000/month for medium-sized insurers including advanced analytics and reporting tools.\n",
      "- **Enterprise Tier:** Custom pricing for large insurance companies that require full customization, dedicated support, and additional features, such as enterprise-grade security and compliance.\n",
      "\n",
      "All tiers include a comprehensive training program and ongoing updates to ensure optimal performance.\n",
      "\n",
      "## Roadmap\n",
      "The development roadmap for Homellm includes the following key milestones:\n",
      "\n",
      "# Product Summary\n",
      "\n",
      "# Homellm\n",
      "\n",
      "## Summary\n",
      "Homellm is an innovative home insurance product developed by Insurellm that leverages advanced AI technology to revolutionize the way insurance providers offer coverage to homeowners. Designed for both B2B and B2C segments, Homellm empowers insurers to provide personalized, data-driven policies, enhancing customer experience while minimizing risk and operational costs. By integrating seamlessly with existing systems, Homellm helps insurance companies streamline their processes and stay competitive in the ever-evolving insurance industry.\n",
      "\n",
      "## Features\n",
      "### 1. AI-Powered Risk Assessment\n",
      "Homellm utilizes sophisticated AI algorithms to analyze vast datasets, allowing insurance companies to assess risks accurately. This feature provides real-time insights for underwriting decisions, enabling insurers to tailor policies to individual customer needs.\n",
      "\n",
      "### 2. Dynamic Pricing Model\n",
      "With Homellm's innovative dynamic pricing model, insurance providers can offer flexible premiums based on real-time risk evaluations and historical data. This adaptability ensures that customers pay a fair price that accurately reflects their unique risk profile.\n",
      "\n",
      "---\n",
      "\n",
      "## Features\n",
      "\n",
      "1. **Access to Core Features**: Roadway Insurance Inc. will have access to all Professional Tier features, including:\n",
      "   - AI-Powered Risk Assessment\n",
      "   - Advanced Analytics & Fraud Detection\n",
      "   - Instant Quoting System\n",
      "   - Customizable Coverage Plans\n",
      "   - Customer Insights Dashboard\n",
      "   \n",
      "2. **Mobile Integration**: All features will be accessible through a mobile application that Insurellm will provide.\n",
      "3. **Customer Support**: Includes 24/7 automated customer support via AI chatbots and access to dedicated account management support during business hours.\n",
      "\n",
      "---\n",
      "\n",
      "## Support\n",
      "\n",
      "1. **Technical Support**: Roadway Insurance Inc. will receive priority technical support from Insurellm for any issues arising from the Carllm product.\n",
      "2. **Training**: Insurellm will provide up to 5 training sessions for Roadway Insurance Inc. staff on the effective use of the Carllm platform, scheduled at mutual convenience.\n",
      "3. **Updates and Maintenance**: Regular updates to the Carllm platform will be conducted quarterly, and any maintenance outages will be communicated at least 48 hours in advance.\n",
      "\n",
      "---\n",
      "\n",
      "# Contract with Stellar Insurance Co. for Rellm\n",
      "\n",
      "## Terms\n",
      "This contract is made between **Insurellm**, located at 123 Innovation Lane, San Francisco, CA, and **Stellar Insurance Co.**, located at 456 Galaxy Road, Chicago, IL. The effective date of this agreement is **January 1, 2024**. \n",
      "\n",
      "### Duration\n",
      "The initial term of this agreement shall be for **12 months**, commencing from the effective date. The contract will automatically renew for successive **12-month periods** unless either party provides written notice of non-renewal at least **30 days** prior to the expiration of the current term.\n",
      "\n",
      "### Payment Terms\n",
      "Stellar Insurance Co. agrees to pay Insurellm a monthly subscription fee of **$10,000** for the **Professional Plan** of the Rellm product. Payments are due on the **1st of each month**.\n",
      "\n",
      "### Termination\n",
      "Either party may terminate this agreement with a **30-day written notice**. In the event of a material breach, the non-breaching party may terminate immediately, provided a written notice is given.\n",
      "\n",
      "# Contract with GreenValley Insurance for Homellm\n",
      "\n",
      "**Contract Date:** October 6, 2023  \n",
      "**Contract Number:** HV-2023-0458  \n",
      "**Parties:**  \n",
      "- Insurellm, Inc.  \n",
      "- GreenValley Insurance, LLC  \n",
      "\n",
      "---\n",
      "\n",
      "## Terms\n",
      "\n",
      "1. **Coverage:** Insurellm agrees to provide GreenValley Insurance with access to the Homellm product, allowing for personalized home insurance offerings tailored to customers.\n",
      "   \n",
      "2. **Duration:** This agreement is effective for a period of 12 months from the contract date, after which it will automatically renew unless terminated by either party with a written 30-day notice.\n",
      "\n",
      "3. **Payment:** GreenValley Insurance shall pay a monthly fee of $10,000, due by the 5th of every month for the Standard Tier package. \n",
      "\n",
      "4. **Confidentiality:** Both parties agree to maintain the confidentiality of proprietary information disclosed during the execution of this contract.\n",
      "\n",
      "5. **Liability:** Insurellm's liability under this agreement shall be limited to direct damages and shall not exceed the total fees paid by GreenValley Insurance in the last 12 months prior to the date of the claim.\n",
      "\n",
      "---\n",
      "\n",
      "## Renewal\n",
      "\n",
      "---\n",
      "\n",
      "*This contract outlines the terms of the relationship between Insurellm and Roadway Insurance Inc. for the Carllm product, emphasizing the collaborative spirit aimed at transforming the auto insurance landscape.*\n",
      "Human: tell me about Insurellm\u001b[0m\n",
      "\n",
      "\u001b[1m> Finished chain.\u001b[0m\n",
      "\n",
      "\u001b[1m> Finished chain.\u001b[0m\n",
      "\n",
      "\u001b[1m> Finished chain.\u001b[0m\n",
      "\n",
      "Answer: I couldn't find any information on a company or product called \"Insurellm\". It's possible that it's a fictional or non-existent entity. Can you provide more context or details about what Insurellm is or where you heard of it? This will help me better assist you.\n",
      "\n",
      "If you're looking for insurance-related information, I can provide general knowledge on various types of insurance, such as health, life, home, auto, and more. Or, if you'd like to discuss a specific type of insurance, feel free to let me know!\n"
     ]
    }
   ],
   "source": [
    "# Chat test\n",
    "query = \"tell me about Insurellm\"\n",
    "result = conversation_chain.invoke({\"question\": query})\n",
    "answer = result[\"answer\"]\n",
    "print(\"\\nAnswer:\", answer)"
   ]
  },
  {
   "cell_type": "code",
   "execution_count": 15,
   "id": "102a8222-f4a6-4c87-8cce-86a89adb19e9",
   "metadata": {},
   "outputs": [],
   "source": [
    "# Clearing memory before new chat\n",
    "memory.clear()"
   ]
  },
  {
   "cell_type": "code",
   "execution_count": 16,
   "id": "a2377cef-1ea6-4395-8147-db9c684fdb65",
   "metadata": {},
   "outputs": [],
   "source": [
    "def chat_gradio(question, history):\n",
    "    result = conversation_chain.invoke({\"question\": question})\n",
    "    return result[\"answer\"]"
   ]
  },
  {
   "cell_type": "code",
   "execution_count": 17,
   "id": "4c357dd8-252c-4dd5-85be-277d3ed53d79",
   "metadata": {},
   "outputs": [
    {
     "name": "stdout",
     "output_type": "stream",
     "text": [
      "* Running on local URL:  http://127.0.0.1:7860\n",
      "\n",
      "To create a public link, set `share=True` in `launch()`.\n"
     ]
    },
    {
     "data": {
      "text/html": [
       "<div><iframe src=\"http://127.0.0.1:7860/\" width=\"100%\" height=\"500\" allow=\"autoplay; camera; microphone; clipboard-read; clipboard-write;\" frameborder=\"0\" allowfullscreen></iframe></div>"
      ],
      "text/plain": [
       "<IPython.core.display.HTML object>"
      ]
     },
     "metadata": {},
     "output_type": "display_data"
    }
   ],
   "source": [
    "# Ui launch\n",
    "view = gr.ChatInterface(chat_gradio, type=\"messages\").launch(inbrowser=True)"
   ]
  },
  {
   "cell_type": "code",
   "execution_count": null,
   "id": "ebeff830-49f0-4bf6-a3b2-10ba038db1c0",
   "metadata": {},
   "outputs": [],
   "source": []
  }
 ],
 "metadata": {
  "kernelspec": {
   "display_name": "Python 3 (ipykernel)",
   "language": "python",
   "name": "python3"
  },
  "language_info": {
   "codemirror_mode": {
    "name": "ipython",
    "version": 3
   },
   "file_extension": ".py",
   "mimetype": "text/x-python",
   "name": "python",
   "nbconvert_exporter": "python",
   "pygments_lexer": "ipython3",
   "version": "3.11.11"
  }
 },
 "nbformat": 4,
 "nbformat_minor": 5
}
